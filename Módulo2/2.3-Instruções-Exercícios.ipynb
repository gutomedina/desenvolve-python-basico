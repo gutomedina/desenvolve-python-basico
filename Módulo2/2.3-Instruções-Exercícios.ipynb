{
 "cells": [
  {
   "cell_type": "markdown",
   "metadata": {
    "id": "1pCTdOHonv5f"
   },
   "source": [
    "# Módulo 2\n",
    "\n",
    "## 2.3 Instruções e Expressões\n",
    "\n",
    "### Q1\n",
    "\n",
    "Faça um programa que armazene o valor de 20 reais de salário por hora de um trabalhador, e o número de 40 horas trabalhadas na semana. Com essas informações, calcule e imprima:\n",
    "- Salário semanal bruto\n",
    "- Valor descontado por semana INSS (10% do bruto)\n",
    "- Valor descontado por semana pelo sindicato (5% do bruto)\n",
    "- Salário semanal líquido (Bruto - Descontos)"
   ]
  },
  {
   "cell_type": "code",
   "execution_count": null,
   "metadata": {
    "id": "hVbX0I97nj6M"
   },
   "outputs": [],
   "source": [
    "\n",
    "salario_por_hora = 20.0\n",
    "horas_trabalhadas_semana = 40\n",
    "\n",
    "salario_semanal_bruto = salario_por_hora * horas_trabalhadas_semana\n",
    "\n",
    "\n",
    "desconto_inss = 0.10 * salario_semanal_bruto\n",
    "\n",
    "\n",
    "desconto_sindicato = 0.05 * salario_semanal_bruto\n",
    "\n",
    "\n",
    "salario_semanal_liquido = salario_semanal_bruto - (desconto_inss + desconto_sindicato)\n",
    "\n",
    "\n",
    "print(f\"Salário semanal bruto: R$ {salario_semanal_bruto:.2f}\")\n",
    "print(f\"Valor descontado por INSS: R$ {desconto_inss:.2f}\")\n",
    "print(f\"Valor descontado pelo sindicato: R$ {desconto_sindicato:.2f}\")\n",
    "print(f\"Salário semanal líquido: R$ {salario_semanal_liquido:.2f}\")"
   ]
  },
  {
   "cell_type": "markdown",
   "metadata": {
    "id": "pIxKX9J2oGZ1"
   },
   "source": [
    "### Q2\n",
    "\n",
    "Altere o programa anterior para a partir dos valores de horas trabalhadas por semana e salário por hora, calcular **em somente duas instruções**:\n",
    "- Salário semanal bruto\n",
    "- Salário semanal líquido com todos os descontos. Para a segunda instrução, realize todos os cálculos aritméticos em uma expressão composta.\n"
   ]
  },
  {
   "cell_type": "code",
   "execution_count": null,
   "metadata": {
    "id": "pAHw9Xf9oGoi"
   },
   "outputs": [],
   "source": [
    "\n",
    "salario_por_hora = 20  \n",
    "horas_trabalhadas = 40 \n",
    "\n",
    "\n",
    "salario_bruto = salario_por_hora * horas_trabalhadas\n",
    "desconto_inss = salario_bruto * 0.10\n",
    "desconto_sindicato = salario_bruto * 0.05\n",
    "salario_liquido = salario_bruto - (desconto_inss + desconto_sindicato)\n",
    "\n",
    "print(\"Salário semanal bruto:\", salario_bruto)\n",
    "print(\"Valor descontado por semana INSS:\", desconto_inss)\n",
    "print(\"Valor descontado por semana pelo sindicato:\", desconto_sindicato)\n",
    "print(\"Salário semanal líquido:\", salario_liquido)\n",
    "\n",
    "\n",
    "\n",
    "salario_bruto = salario_por_hora * horas_trabalhadas\n",
    "\n",
    "\n",
    "salario_liquido = salario_bruto - (salario_bruto * 0.10 + salario_bruto * 0.05)\n",
    "\n",
    "\n",
    "print(\"Salário semanal bruto (2ª Parte):\", salario_bruto)\n",
    "print(\"Salário semanal líquido (2ª Parte):\", salario_liquido)"
   ]
  },
  {
   "cell_type": "markdown",
   "metadata": {
    "id": "m8tlHRuWpBOB"
   },
   "source": [
    "### Q3\n",
    "\n",
    "Você está desenvolvendo um software de conversão de moeda e precisa calcular o valor equivalente em yuan chinês a partir de uma quantia em real. A taxa de câmbio é de 0.69 BRL (real) para 1 CNY (yuan). Escreva um programa que define em uma variável uma quantia em reais (BRL) e calcula o valor equivalente em yuan (CNY). Imprima o resultado."
   ]
  },
  {
   "cell_type": "code",
   "execution_count": null,
   "metadata": {
    "id": "2bPw7uF6oeL9"
   },
   "outputs": [],
   "source": [
    "\n",
    "quantia_brl = 100.0  \n",
    "\n",
    "\n",
    "taxa_cambio = 0.69\n",
    "\n",
    "\n",
    "quantia_cny = quantia_brl / taxa_cambio\n",
    "\n",
    "\n",
    "print(f'Valor em reais (BRL): {quantia_brl}')\n",
    "print(f'Valor equivalente em yuan (CNY): {quantia_cny:.2f}')"
   ]
  },
  {
   "cell_type": "markdown",
   "metadata": {
    "id": "-Na3ltDCp74A"
   },
   "source": [
    "### Q4\n",
    "\n",
    "Você é um treinador de corrida e deseja calcular a velocidade média que um atleta precisa manter para completar a Maratona Internacional de São Silvestre, que tem uma distância total de 42.195 km. A fórmula para calcular a velocidade média ($v\\_media$) é dada por $v\\_media = \\frac{distancia}{tempo}$ . Escreva um programa em Python para calcular a velocidade média necessária para completar a maratona em 3 horas.\n",
    "\n",
    "**Calcule e imprima o resultado em metros/segundo**, ou seja, converta a distância de quilômetros para metros ($metro = \\frac{km}{1000}$) e a velocidade de horas para segundos $(segundo = \\frac{hora}{3600})$."
   ]
  },
  {
   "cell_type": "code",
   "execution_count": null,
   "metadata": {
    "id": "Bn6l8kcSrE4L"
   },
   "outputs": [],
   "source": [
    "\n",
    "distancia_metros = 42.195 * 1000\n",
    "\n",
    "\n",
    "tempo_segundos = 3 * 3600\n",
    "\n",
    "\n",
    "v_media = distancia_metros / tempo_segundos\n",
    "\n",
    "\n",
    "print(f\"A velocidade média necessária é {v_media:.2f} metros/segundo.\")"
   ]
  }
 ],
 "metadata": {
  "colab": {
   "provenance": []
  },
  "kernelspec": {
   "display_name": "Python 3",
   "name": "python3"
  },
  "language_info": {
   "name": "python"
  }
 },
 "nbformat": 4,
 "nbformat_minor": 0
}
